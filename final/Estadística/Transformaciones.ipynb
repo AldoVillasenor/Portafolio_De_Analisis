{
 "cells": [
  {
   "cell_type": "markdown",
   "id": "a64111e7-d805-453d-8f0c-c1e83ad394aa",
   "metadata": {},
   "source": [
    "##### Aldo Daniel Villaseñor Fierro\n",
    "##### A01637907"
   ]
  },
  {
   "cell_type": "code",
   "execution_count": 2,
   "id": "2312b282-1e55-4719-bb3e-ecb58a245711",
   "metadata": {},
   "outputs": [],
   "source": [
    "import pandas as pd\n",
    "import scipy.stats as stats\n",
    "import pylab\n",
    "import matplotlib.pyplot as plt\n",
    "import plotly.express as px\n",
    "import numpy as np"
   ]
  },
  {
   "cell_type": "code",
   "execution_count": 3,
   "id": "8474db41-306d-49af-b6db-1afef15d411b",
   "metadata": {},
   "outputs": [],
   "source": [
    "df=pd.read_csv('mc-donalds-menu-1.csv',encoding = 'unicode_escape', engine ='python')\n",
    "df_car = df['Carbohydrates']\n",
    "df_sug = df['Sugars']"
   ]
  },
  {
   "cell_type": "markdown",
   "id": "42a36b4d",
   "metadata": {},
   "source": [
    "### Transformación Box-Cox. Utilizando el modelo exacto y el aproximado de acuerdo con las sugerencias de Box y Cox para la transformación"
   ]
  },
  {
   "cell_type": "code",
   "execution_count": 4,
   "id": "9298edc5-32bc-49d7-b4af-4227c89dffde",
   "metadata": {},
   "outputs": [],
   "source": [
    "bc_e_car = stats.boxcox(df_car+1)[0]\n",
    "lbd_car = stats.boxcox(df_car+1)[1]\n",
    "bc_a_car = np.sqrt(df_car+1)\n",
    "\n",
    "bc_e_sug = stats.boxcox(df_sug+1)[0]\n",
    "lbd_sug = stats.boxcox(df_sug+1)[1]\n",
    "bc_a_sug = np.log(df_sug+1)"
   ]
  },
  {
   "cell_type": "code",
   "execution_count": 5,
   "id": "5c0cb0c5",
   "metadata": {},
   "outputs": [
    {
     "data": {
      "text/plain": [
       "0.24953722040418788"
      ]
     },
     "execution_count": 5,
     "metadata": {},
     "output_type": "execute_result"
    }
   ],
   "source": [
    "lbd_sug"
   ]
  },
  {
   "cell_type": "markdown",
   "id": "3d945ead",
   "metadata": {},
   "source": [
    "##### Ecuación modelo exacto $\\frac{x^{\\lambda }-1}{\\lambda }$\n",
    "##### Ecuación modelo aproximado $\\sqrt{x+1}$ Carbohidratos\n",
    "##### Ecuación modelo aproximado $\\log(x+1)$ Azúcares"
   ]
  },
  {
   "cell_type": "code",
   "execution_count": 6,
   "id": "b8023b64",
   "metadata": {},
   "outputs": [],
   "source": [
    "def summary(data):\n",
    "    minimum = np.min(data)\n",
    "    print(f\"Mínimo: {minimum}\")\n",
    "    maximum = np.max(data)\n",
    "    print(f\"Máximo: {maximum}\")\n",
    "    mean = np.mean(data)\n",
    "    print(f\"Media: {mean}\")\n",
    "    median = np.median(data)\n",
    "    print(f\"Mediana: {median}\")\n",
    "    q1 = np.percentile(data, 25)\n",
    "    print(f\"Quartile 1: {q1}\")\n",
    "    q3 = np.percentile(data, 75)\n",
    "    print(f\"Quartile 3: {q3}\")\n",
    "    bias = stats.skew(data)\n",
    "    print(f\"Sesgo: {bias}\")\n",
    "    kurtosis = stats.kurtosis(data)\n",
    "    print(f\"Curtosis: {kurtosis}\")\n",
    "    _, p_value = stats.jarque_bera(data)\n",
    "    print(f\"Jarque-Bera Test P-value: {p_value}\")"
   ]
  },
  {
   "cell_type": "code",
   "execution_count": 7,
   "id": "f3254bd6",
   "metadata": {},
   "outputs": [],
   "source": [
    "def lambda_yj(data, n):\n",
    "    d = []\n",
    "    for i in range(len(n)):\n",
    "        t = stats.yeojohnson(data,lmbda=n[i])[0]\n",
    "        _, p_value = stats.jarque_bera(t)\n",
    "        d.append(p_value)\n",
    "    return d\n",
    "\n"
   ]
  },
  {
   "cell_type": "markdown",
   "id": "356dfa4e",
   "metadata": {},
   "source": [
    "##### Comparación de las medidas: Mínimo, máximo, media, mediana, cuartil 1 y cuartil 3, sesgo , curtosis y pruebas de normalidad (Jarque-Bera)."
   ]
  },
  {
   "cell_type": "markdown",
   "id": "2dff7de5",
   "metadata": {},
   "source": [
    "##### Variable Carbohidratos"
   ]
  },
  {
   "cell_type": "code",
   "execution_count": 8,
   "id": "de3432fd",
   "metadata": {},
   "outputs": [
    {
     "name": "stdout",
     "output_type": "stream",
     "text": [
      "Mínimo: 0.0\n",
      "Máximo: 36.256909136076175\n",
      "Media: 16.469945113367718\n",
      "Mediana: 16.48025221859432\n",
      "Quartile 1: 12.631144863415434\n",
      "Quartile 3: 20.38466172742037\n",
      "Sesgo: -0.027311524877722246\n",
      "Curtosis: 0.6536832896137161\n",
      "Jarque-Bera Test P-value: 0.0972263769002522\n"
     ]
    }
   ],
   "source": [
    "summary(bc_e_car)"
   ]
  },
  {
   "cell_type": "code",
   "execution_count": 9,
   "id": "63360755",
   "metadata": {},
   "outputs": [
    {
     "name": "stdout",
     "output_type": "stream",
     "text": [
      "Mínimo: 0.0\n",
      "Máximo: 9.467786039513516\n",
      "Media: 4.399268940960248\n",
      "Mediana: 4.291881801597276\n",
      "Quartile 1: 2.44364818025886\n",
      "Quartile 3: 6.576135028201798\n",
      "Sesgo: -0.12912872120436655\n",
      "Curtosis: -1.0911225842710042\n",
      "Jarque-Bera Test P-value: 0.001102605512226474\n"
     ]
    }
   ],
   "source": [
    "summary(bc_e_sug)"
   ]
  },
  {
   "cell_type": "code",
   "execution_count": 10,
   "id": "56d3d318",
   "metadata": {},
   "outputs": [
    {
     "name": "stdout",
     "output_type": "stream",
     "text": [
      "Mínimo: 1.0\n",
      "Máximo: 11.916375287812984\n",
      "Media: 6.583243626224498\n",
      "Mediana: 6.708203932499369\n",
      "Quartile 1: 5.5677643628300215\n",
      "Quartile 3: 7.810249675906654\n",
      "Sesgo: -0.4968261704731906\n",
      "Curtosis: 0.9394753355206875\n",
      "Jarque-Bera Test P-value: 3.990759356623e-05\n"
     ]
    }
   ],
   "source": [
    "summary(bc_a_car)"
   ]
  },
  {
   "cell_type": "markdown",
   "id": "5fb575ab",
   "metadata": {},
   "source": [
    "##### Variable Azúcares"
   ]
  },
  {
   "cell_type": "code",
   "execution_count": 11,
   "id": "0f8756cf",
   "metadata": {},
   "outputs": [
    {
     "name": "stdout",
     "output_type": "stream",
     "text": [
      "Mínimo: 0.0\n",
      "Máximo: 4.859812404361672\n",
      "Media: 2.75678572260527\n",
      "Mediana: 2.9174053685313024\n",
      "Quartile 1: 1.9073724790984987\n",
      "Quartile 3: 3.8918202981106265\n",
      "Sesgo: -0.5991583261765885\n",
      "Curtosis: -0.6511919580674923\n",
      "Jarque-Bera Test P-value: 4.211634865987942e-05\n"
     ]
    }
   ],
   "source": [
    "summary(bc_a_sug)"
   ]
  },
  {
   "cell_type": "code",
   "execution_count": 12,
   "id": "eb9bf605",
   "metadata": {},
   "outputs": [
    {
     "name": "stdout",
     "output_type": "stream",
     "text": [
      "Mínimo: 0\n",
      "Máximo: 141\n",
      "Media: 47.34615384615385\n",
      "Mediana: 44.0\n",
      "Quartile 1: 30.0\n",
      "Quartile 3: 60.0\n",
      "Sesgo: 0.9074252822561677\n",
      "Curtosis: 1.3575379316182001\n",
      "Jarque-Bera Test P-value: 8.25154607719961e-13\n"
     ]
    }
   ],
   "source": [
    "summary(df_car)"
   ]
  },
  {
   "cell_type": "code",
   "execution_count": 13,
   "id": "77cbaada",
   "metadata": {},
   "outputs": [
    {
     "name": "stdout",
     "output_type": "stream",
     "text": [
      "Mínimo: 0\n",
      "Máximo: 128\n",
      "Media: 29.423076923076923\n",
      "Mediana: 17.5\n",
      "Quartile 1: 5.75\n",
      "Quartile 3: 48.0\n",
      "Sesgo: 1.025977207076316\n",
      "Curtosis: 0.48774420501021654\n",
      "Jarque-Bera Test P-value: 3.431078580921219e-11\n"
     ]
    }
   ],
   "source": [
    "summary(df_sug)"
   ]
  },
  {
   "cell_type": "markdown",
   "id": "380e86b4",
   "metadata": {},
   "source": [
    "##### Histograma de variable Carbohidratos y sus tranformaciones"
   ]
  },
  {
   "cell_type": "code",
   "execution_count": 14,
   "id": "28aaee62-a517-48dd-8caa-d8902d29fce9",
   "metadata": {},
   "outputs": [
    {
     "data": {
      "image/png": "[encoded data removed]",
      "text/plain": [
       "<Figure size 432x288 with 1 Axes>"
      ]
     },
     "metadata": {
      "needs_background": "light"
     },
     "output_type": "display_data"
    }
   ],
   "source": [
    "x = np.arange(min(df_car), max(df_car), 0.1)\n",
    "\n",
    "serie=df_car\n",
    "x = np.arange(min(serie), max(serie), 0.1)\n",
    "y = stats.norm.pdf(x, np.mean(serie), np.std(serie))\n",
    "plt.figure(figsize=(6, 4))\n",
    "plt.hist(serie, bins=30, density=True, histtype='bar', alpha=0.7, color='blue')\n",
    "plt.plot(x, y, color='blue', label='Normal Distribution')\n",
    "plt.xlabel('Value')\n",
    "plt.ylabel('Probability Density')\n",
    "plt.title('Carbohidratos')\n",
    "plt.show()"
   ]
  },
  {
   "cell_type": "code",
   "execution_count": 48,
   "id": "959848a6",
   "metadata": {},
   "outputs": [
    {
     "data": {
      "image/png": "[encoded data removed]",
      "text/plain": [
       "<Figure size 432x288 with 1 Axes>"
      ]
     },
     "metadata": {
      "needs_background": "light"
     },
     "output_type": "display_data"
    }
   ],
   "source": [
    "x = np.arange(min(bc_e_car), max(bc_e_car), 0.1)\n",
    "\n",
    "serie=bc_e_car\n",
    "y = stats.norm.pdf(x, np.mean(serie), np.std(serie))\n",
    "plt.figure(figsize=(6, 4))\n",
    "plt.hist(serie, bins=30, density=True, histtype='bar', alpha=0.7, color='blue')\n",
    "plt.plot(x, y, color='blue', label='Normal Distribution')\n",
    "plt.xlabel('Value')\n",
    "plt.ylabel('Probability Density')\n",
    "plt.title('Carbohidratos (Transformacion exacta)')\n",
    "plt.show()\n"
   ]
  },
  {
   "cell_type": "code",
   "execution_count": 50,
   "id": "d97012ed",
   "metadata": {},
   "outputs": [
    {
     "data": {
      "image/png": "[encoded data removed]",
      "text/plain": [
       "<Figure size 432x288 with 1 Axes>"
      ]
     },
     "metadata": {
      "needs_background": "light"
     },
     "output_type": "display_data"
    }
   ],
   "source": [
    "x = np.arange(min(bc_a_car), max(bc_a_car), 0.1)\n",
    "serie=bc_a_car\n",
    "y = stats.norm.pdf(x, np.mean(serie), np.std(serie))\n",
    "plt.figure(figsize=(6, 4))\n",
    "plt.hist(serie, bins=30, density=True, histtype='bar', alpha=0.7, color='blue')\n",
    "plt.plot(x, y, color='blue', label='Normal Distribution')\n",
    "plt.xlabel('Value')\n",
    "plt.ylabel('Probability Density')\n",
    "plt.title('Carbohidratos (Transformacion aproximada)')\n",
    "plt.show()\n"
   ]
  },
  {
   "cell_type": "markdown",
   "id": "322bb2a6",
   "metadata": {},
   "source": [
    "##### Histograma de variable Azúcares y sus tranformaciones"
   ]
  },
  {
   "cell_type": "code",
   "execution_count": 51,
   "id": "ba3db434",
   "metadata": {},
   "outputs": [
    {
     "data": {
      "image/png": "[encoded data removed]",
      "text/plain": [
       "<Figure size 432x288 with 1 Axes>"
      ]
     },
     "metadata": {
      "needs_background": "light"
     },
     "output_type": "display_data"
    }
   ],
   "source": [
    "x = np.arange(min(df_sug), max(df_sug), 0.1)\n",
    "serie=df_sug\n",
    "y = stats.norm.pdf(x, np.mean(serie), np.std(serie))\n",
    "plt.figure(figsize=(6, 4))\n",
    "plt.hist(serie, bins=30, density=True, histtype='bar', alpha=0.7, color='blue')\n",
    "plt.plot(x, y, color='blue', label='Normal Distribution')\n",
    "plt.xlabel('Value')\n",
    "plt.ylabel('Probability Density')\n",
    "plt.title('Azúcares')\n",
    "plt.show()"
   ]
  },
  {
   "cell_type": "code",
   "execution_count": 52,
   "id": "d8a26ead",
   "metadata": {},
   "outputs": [
    {
     "data": {
      "image/png": "[encoded data removed]",
      "text/plain": [
       "<Figure size 432x288 with 1 Axes>"
      ]
     },
     "metadata": {
      "needs_background": "light"
     },
     "output_type": "display_data"
    }
   ],
   "source": [
    "x = np.arange(min(bc_e_sug), max(bc_e_sug), 0.1)\n",
    "serie=bc_e_sug\n",
    "y = stats.norm.pdf(x, np.mean(serie), np.std(serie))\n",
    "plt.figure(figsize=(6, 4))\n",
    "plt.hist(serie, bins=30, density=True, histtype='bar', alpha=0.7, color='blue')\n",
    "plt.plot(x, y, color='blue', label='Normal Distribution')\n",
    "plt.xlabel('Value')\n",
    "plt.ylabel('Probability Density')\n",
    "plt.title('Azúcares Transformación exacta')\n",
    "plt.show()"
   ]
  },
  {
   "cell_type": "code",
   "execution_count": 53,
   "id": "1946e6a4",
   "metadata": {},
   "outputs": [
    {
     "data": {
      "image/png": "[encoded data removed]",
      "text/plain": [
       "<Figure size 432x288 with 1 Axes>"
      ]
     },
     "metadata": {
      "needs_background": "light"
     },
     "output_type": "display_data"
    }
   ],
   "source": [
    "x = np.arange(min(bc_a_sug), max(bc_a_sug), 0.1)\n",
    "serie=bc_a_sug\n",
    "y = stats.norm.pdf(x, np.mean(serie), np.std(serie))\n",
    "plt.figure(figsize=(6, 4))\n",
    "plt.hist(serie, bins=30, density=True, histtype='bar', alpha=0.7, color='blue')\n",
    "plt.plot(x, y, color='blue', label='Normal Distribution')\n",
    "plt.xlabel('Value')\n",
    "plt.ylabel('Probability Density')\n",
    "plt.title('Azúcares Transformación aproximada')\n",
    "plt.show()"
   ]
  },
  {
   "cell_type": "code",
   "execution_count": 20,
   "id": "3e162d68-0456-44cc-a70b-5e9ff57ddadb",
   "metadata": {},
   "outputs": [
    {
     "data": {
      "image/png": "[encoded data removed]",
      "text/plain": [
       "<Figure size 576x288 with 1 Axes>"
      ]
     },
     "metadata": {
      "needs_background": "light"
     },
     "output_type": "display_data"
    }
   ],
   "source": [
    "q1_car = np.percentile(df['Carbohydrates'], 25)  \n",
    "q3_car = np.percentile(df['Carbohydrates'], 75)  \n",
    "ri_car = q3_car - q1_car\n",
    "\n",
    "plt.figure(figsize=(8, 4))\n",
    "plt.boxplot(df['Carbohydrates'], vert=False)\n",
    "plt.axvline(x=q3_car + 1.5 * ri_car, color=\"red\")\n",
    "plt.show()"
   ]
  },
  {
   "cell_type": "code",
   "execution_count": 21,
   "id": "a37ede96-5927-4272-bf38-d65ec1693e57",
   "metadata": {},
   "outputs": [
    {
     "data": {
      "image/png": "[encoded data removed]",
      "text/plain": [
       "<Figure size 576x288 with 1 Axes>"
      ]
     },
     "metadata": {
      "needs_background": "light"
     },
     "output_type": "display_data"
    }
   ],
   "source": [
    "q1_sug = np.percentile(df_sug, 25)  \n",
    "q3_sug = np.percentile(df_sug, 75)  \n",
    "ri_sug = q3_sug - q1_sug\n",
    "\n",
    "plt.figure(figsize=(8, 4))\n",
    "plt.boxplot(df_sug, vert=False)\n",
    "plt.axvline(x=q3_sug + 1.5 * ri_sug, color=\"red\")\n",
    "plt.show()"
   ]
  },
  {
   "cell_type": "markdown",
   "id": "456ad408",
   "metadata": {},
   "source": [
    "##### Detección de anomalías y corrección de base de datos (datos atípicos, ceros anámalos, etc)."
   ]
  },
  {
   "cell_type": "markdown",
   "id": "764b25a6",
   "metadata": {},
   "source": [
    "##### Eliminando datos atípicos "
   ]
  },
  {
   "cell_type": "code",
   "execution_count": 22,
   "id": "bd93f5d3",
   "metadata": {},
   "outputs": [],
   "source": [
    "df_car = df_car[(df_car > 0) * (df_car < (q3_car + 1.5 * ri_car))]\n",
    "df_sug = df_sug[df_sug < (q3_sug + 1.5 * ri_sug)]"
   ]
  },
  {
   "cell_type": "code",
   "execution_count": 23,
   "id": "2a22fc7f",
   "metadata": {},
   "outputs": [
    {
     "data": {
      "text/plain": [
       "array([0.03705954, 0.04295781, 0.04952388, 0.05678288, 0.06475161,\n",
       "       0.07343685, 0.08283384, 0.09292485, 0.10367792, 0.11504586,\n",
       "       0.12696559, 0.13935784, 0.15212728, 0.16516313, 0.17834027,\n",
       "       0.19152085, 0.20455638, 0.21729028, 0.2295609 , 0.24120474,\n",
       "       0.25206008, 0.26197065, 0.27078931, 0.27838172, 0.28462972,\n",
       "       0.28943436, 0.29271855, 0.29442909, 0.29453813, 0.29304387,\n",
       "       0.28997068, 0.28536837, 0.27931092, 0.27189443, 0.26323464,\n",
       "       0.25346388, 0.24272775, 0.23118152, 0.21898638, 0.20630579,\n",
       "       0.19330187, 0.18013206, 0.16694611, 0.15388344, 0.14107102,\n",
       "       0.12862164, 0.11663277, 0.10518589, 0.09434625])"
      ]
     },
     "execution_count": 23,
     "metadata": {},
     "output_type": "execute_result"
    }
   ],
   "source": [
    "y"
   ]
  },
  {
   "cell_type": "code",
   "execution_count": 24,
   "id": "3595de75",
   "metadata": {},
   "outputs": [],
   "source": [
    "yj_e_car = stats.yeojohnson(df_car)[0]\n",
    "lbd_car = stats.yeojohnson(df_car)[1]\n",
    "yj_a_car = df_car\n",
    "\n",
    "yj_e_sug = stats.yeojohnson(df_sug+1)[0]\n",
    "lbd_sug = stats.yeojohnson(df_sug+1)[1]\n",
    "yj_a_sug = np.log(df_sug+1)"
   ]
  },
  {
   "cell_type": "code",
   "execution_count": 25,
   "id": "e3d17efb",
   "metadata": {},
   "outputs": [
    {
     "data": {
      "text/plain": [
       "0.7568004683324302"
      ]
     },
     "execution_count": 25,
     "metadata": {},
     "output_type": "execute_result"
    }
   ],
   "source": [
    "lbd_car"
   ]
  },
  {
   "cell_type": "code",
   "execution_count": 26,
   "id": "6e2761ec",
   "metadata": {},
   "outputs": [
    {
     "data": {
      "text/plain": [
       "0.21214599033517836"
      ]
     },
     "execution_count": 26,
     "metadata": {},
     "output_type": "execute_result"
    }
   ],
   "source": [
    "lbd_sug"
   ]
  },
  {
   "cell_type": "markdown",
   "id": "cc9cb28d",
   "metadata": {},
   "source": [
    "##### Ecuación modelo exacto $\\frac{x^{\\lambda }-1}{\\lambda }$\n",
    "##### Ecuación modelo aproximado $x$ Carbohidratos\n",
    "##### Ecuación modelo aproximado $\\log(x+1)$ Azúcares"
   ]
  },
  {
   "cell_type": "markdown",
   "id": "f8fe718e",
   "metadata": {},
   "source": [
    "##### Comparación de las medidas: Mínimo, máximo, media, mediana, cuartil 1 y cuartil 3, sesgo , curtosis y pruebas de normalidad (Jarque-Bera)."
   ]
  },
  {
   "cell_type": "markdown",
   "id": "0a7f0ec2",
   "metadata": {},
   "source": [
    "##### Variable Carbohidratos"
   ]
  },
  {
   "cell_type": "code",
   "execution_count": 27,
   "id": "d76af69b",
   "metadata": {},
   "outputs": [
    {
     "name": "stdout",
     "output_type": "stream",
     "text": [
      "Mínimo: 4\n",
      "Máximo: 98\n",
      "Media: 45.25550660792952\n",
      "Mediana: 44.0\n",
      "Quartile 1: 32.0\n",
      "Quartile 3: 57.0\n",
      "Sesgo: 0.30341010149795117\n",
      "Curtosis: 0.0527011555014405\n",
      "Jarque-Bera Test P-value: 0.17298342933710809\n"
     ]
    }
   ],
   "source": [
    "summary(df_car)"
   ]
  },
  {
   "cell_type": "code",
   "execution_count": 28,
   "id": "50ba4f30",
   "metadata": {},
   "outputs": [
    {
     "name": "stdout",
     "output_type": "stream",
     "text": [
      "Mínimo: 3.1454778571712803\n",
      "Máximo: 41.466083279202955\n",
      "Media: 22.349729138292975\n",
      "Mediana: 22.238394216596692\n",
      "Quartile 1: 17.30941193026987\n",
      "Quartile 3: 27.227045523404744\n",
      "Sesgo: -0.013570988992208934\n",
      "Curtosis: 0.005969859217465512\n",
      "Jarque-Bera Test P-value: 0.9963542028518314\n"
     ]
    }
   ],
   "source": [
    "summary(yj_e_car)"
   ]
  },
  {
   "cell_type": "code",
   "execution_count": 29,
   "id": "03f64313",
   "metadata": {},
   "outputs": [
    {
     "name": "stdout",
     "output_type": "stream",
     "text": [
      "Mínimo: 4\n",
      "Máximo: 98\n",
      "Media: 45.25550660792952\n",
      "Mediana: 44.0\n",
      "Quartile 1: 32.0\n",
      "Quartile 3: 57.0\n",
      "Sesgo: 0.30341010149795117\n",
      "Curtosis: 0.0527011555014405\n",
      "Jarque-Bera Test P-value: 0.17298342933710809\n"
     ]
    }
   ],
   "source": [
    "summary(yj_a_car)"
   ]
  },
  {
   "cell_type": "markdown",
   "id": "ec62c546",
   "metadata": {},
   "source": [
    "##### Variable Azúcares"
   ]
  },
  {
   "cell_type": "code",
   "execution_count": 30,
   "id": "721ce967",
   "metadata": {},
   "outputs": [
    {
     "name": "stdout",
     "output_type": "stream",
     "text": [
      "Mínimo: 0\n",
      "Máximo: 103\n",
      "Media: 27.984375\n",
      "Mediana: 17.0\n",
      "Quartile 1: 5.0\n",
      "Quartile 3: 46.25\n",
      "Sesgo: 0.8232604321948835\n",
      "Curtosis: -0.29353600456904516\n",
      "Jarque-Bera Test P-value: 3.3192067459250874e-07\n"
     ]
    }
   ],
   "source": [
    "summary(df_sug)"
   ]
  },
  {
   "cell_type": "code",
   "execution_count": 31,
   "id": "8421c4e7",
   "metadata": {},
   "outputs": [
    {
     "name": "stdout",
     "output_type": "stream",
     "text": [
      "Mínimo: 0.746702884908654\n",
      "Máximo: 7.938066645152998\n",
      "Media: 4.198159973887773\n",
      "Mediana: 4.0896078619553595\n",
      "Quartile 1: 2.40904166135192\n",
      "Quartile 3: 6.0140353692381545\n",
      "Sesgo: -0.10264433533654145\n",
      "Curtosis: -1.2190762882881379\n",
      "Jarque-Bera Test P-value: 0.0002884807150426201\n"
     ]
    }
   ],
   "source": [
    "summary(yj_e_sug)"
   ]
  },
  {
   "cell_type": "code",
   "execution_count": 32,
   "id": "3acc3790",
   "metadata": {},
   "outputs": [
    {
     "name": "stdout",
     "output_type": "stream",
     "text": [
      "Mínimo: 0.0\n",
      "Máximo: 4.6443908991413725\n",
      "Media: 2.724745363948048\n",
      "Mediana: 2.8903717578961645\n",
      "Quartile 1: 1.791759469228055\n",
      "Quartile 3: 3.8554109540095167\n",
      "Sesgo: -0.6123430189513165\n",
      "Curtosis: -0.6600639136895943\n",
      "Jarque-Bera Test P-value: 3.287226071683838e-05\n"
     ]
    }
   ],
   "source": [
    "summary(yj_a_sug)"
   ]
  },
  {
   "cell_type": "code",
   "execution_count": 59,
   "id": "4fc97733",
   "metadata": {},
   "outputs": [
    {
     "data": {
      "image/png": "[encoded data removed]",
      "text/plain": [
       "<Figure size 432x288 with 1 Axes>"
      ]
     },
     "metadata": {
      "needs_background": "light"
     },
     "output_type": "display_data"
    }
   ],
   "source": [
    "x = np.arange(min(df_car), max(df_car), 0.1)\n",
    "serie=df_car\n",
    "y = stats.norm.pdf(x, np.mean(serie), np.std(serie))\n",
    "plt.figure(figsize=(6, 4))\n",
    "plt.hist(serie, bins=30, density=True, histtype='bar', alpha=0.7, color='blue')\n",
    "plt.plot(x, y, color='blue', label='Normal Distribution')\n",
    "plt.xlabel('Value')\n",
    "plt.ylabel('Probability Density')\n",
    "plt.title('Carbohidratos')\n",
    "plt.show()"
   ]
  },
  {
   "cell_type": "code",
   "execution_count": 58,
   "id": "ff41eaa3",
   "metadata": {},
   "outputs": [
    {
     "data": {
      "image/png": "[encoded data removed]",
      "text/plain": [
       "<Figure size 432x288 with 1 Axes>"
      ]
     },
     "metadata": {
      "needs_background": "light"
     },
     "output_type": "display_data"
    }
   ],
   "source": [
    "x = np.arange(min(yj_e_car), max(yj_e_car), 0.1)\n",
    "serie=yj_e_car\n",
    "y = stats.norm.pdf(x, np.mean(serie), np.std(serie))\n",
    "plt.figure(figsize=(6, 4))\n",
    "plt.hist(serie, bins=30, density=True, histtype='bar', alpha=0.7, color='blue')\n",
    "plt.plot(x, y, color='blue', label='Normal Distribution')\n",
    "plt.xlabel('Value')\n",
    "plt.ylabel('Probability Density')\n",
    "plt.title('Carbohidratos (Transformacion exacta)')\n",
    "plt.show()"
   ]
  },
  {
   "cell_type": "code",
   "execution_count": 57,
   "id": "517a66f0",
   "metadata": {},
   "outputs": [
    {
     "data": {
      "image/png": "[encoded data removed]",
      "text/plain": [
       "<Figure size 432x288 with 1 Axes>"
      ]
     },
     "metadata": {
      "needs_background": "light"
     },
     "output_type": "display_data"
    }
   ],
   "source": [
    "x = np.arange(min(yj_a_car), max(yj_a_car), 0.1)\n",
    "serie=yj_a_car\n",
    "y = stats.norm.pdf(x, np.mean(serie), np.std(serie))\n",
    "plt.figure(figsize=(6, 4))\n",
    "plt.hist(serie, bins=30, density=True, histtype='bar', alpha=0.7, color='blue')\n",
    "plt.plot(x, y, color='blue', label='Normal Distribution')\n",
    "plt.xlabel('Value')\n",
    "plt.ylabel('Probability Density')\n",
    "plt.title('Carbohidratos (Transformacion aproximada)')\n",
    "plt.show()\n"
   ]
  },
  {
   "cell_type": "markdown",
   "id": "47ef7614",
   "metadata": {},
   "source": [
    "##### Histograma de variable Azúcares y sus tranformaciones"
   ]
  },
  {
   "cell_type": "code",
   "execution_count": 56,
   "id": "031b5cba",
   "metadata": {},
   "outputs": [
    {
     "data": {
      "image/png": "[encoded data removed]",
      "text/plain": [
       "<Figure size 432x288 with 1 Axes>"
      ]
     },
     "metadata": {
      "needs_background": "light"
     },
     "output_type": "display_data"
    }
   ],
   "source": [
    "x = np.arange(min(df_sug), max(df_sug), 0.1)\n",
    "serie=df_sug\n",
    "y = stats.norm.pdf(x, np.mean(serie), np.std(serie))\n",
    "plt.figure(figsize=(6, 4))\n",
    "plt.hist(serie, bins=30, density=True, histtype='bar', alpha=0.7, color='blue')\n",
    "plt.plot(x, y, color='blue', label='Normal Distribution')\n",
    "plt.xlabel('Value')\n",
    "plt.ylabel('Probability Density')\n",
    "plt.title('Azúcares')\n",
    "plt.show()"
   ]
  },
  {
   "cell_type": "code",
   "execution_count": 55,
   "id": "9dce77b0",
   "metadata": {},
   "outputs": [
    {
     "data": {
      "image/png": "[encoded data removed]",
      "text/plain": [
       "<Figure size 432x288 with 1 Axes>"
      ]
     },
     "metadata": {
      "needs_background": "light"
     },
     "output_type": "display_data"
    }
   ],
   "source": [
    "x = np.arange(min(yj_e_sug), max(yj_e_sug), 0.1)\n",
    "serie=yj_e_sug\n",
    "y = stats.norm.pdf(x, np.mean(serie), np.std(serie))\n",
    "plt.figure(figsize=(6, 4))\n",
    "plt.hist(serie, bins=30, density=True, histtype='bar', alpha=0.7, color='blue')\n",
    "plt.plot(x, y, color='blue', label='Normal Distribution')\n",
    "plt.xlabel('Value')\n",
    "plt.ylabel('Probability Density')\n",
    "plt.title('Azúcares Transformación exacta')\n",
    "plt.show()"
   ]
  },
  {
   "cell_type": "code",
   "execution_count": 54,
   "id": "a4fa04d3",
   "metadata": {},
   "outputs": [
    {
     "data": {
      "image/png": "[encoded data removed]",
      "text/plain": [
       "<Figure size 432x288 with 1 Axes>"
      ]
     },
     "metadata": {
      "needs_background": "light"
     },
     "output_type": "display_data"
    }
   ],
   "source": [
    "x = np.arange(min(yj_a_sug), max(yj_a_sug), 0.1)\n",
    "\n",
    "serie=yj_a_sug\n",
    "y = stats.norm.pdf(x, np.mean(serie), np.std(serie))\n",
    "plt.figure(figsize=(6, 4))\n",
    "plt.hist(serie, bins=30, density=True, histtype='bar', alpha=0.7, color='blue')\n",
    "plt.plot(x, y, color='blue', label='Normal Distribution')\n",
    "plt.xlabel('Value')\n",
    "plt.ylabel('Probability Density')\n",
    "plt.title('Azúcares Transformación aproximada')\n",
    "plt.show()"
   ]
  },
  {
   "cell_type": "markdown",
   "id": "0d50cf89",
   "metadata": {},
   "source": [
    "##### Prueba Anderson-Darling para variable Carbohidratos"
   ]
  },
  {
   "cell_type": "code",
   "execution_count": 39,
   "id": "1d6af432",
   "metadata": {},
   "outputs": [
    {
     "data": {
      "text/plain": [
       "AndersonResult(statistic=0.3963877451544704, critical_values=array([0.566, 0.645, 0.774, 0.903, 1.074]), significance_level=array([15. , 10. ,  5. ,  2.5,  1. ]), fit_result=  params: FitParams(loc=45.25550660792952, scale=18.58574730079311)\n",
       " success: True\n",
       " message: '`anderson` successfully fit the distribution to the data.')"
      ]
     },
     "execution_count": 39,
     "metadata": {},
     "output_type": "execute_result"
    }
   ],
   "source": [
    "stats.anderson(df_car,dist = 'norm')"
   ]
  },
  {
   "cell_type": "code",
   "execution_count": 40,
   "id": "1a349485",
   "metadata": {},
   "outputs": [
    {
     "data": {
      "text/plain": [
       "AndersonResult(statistic=0.2154962892213348, critical_values=array([0.566, 0.645, 0.774, 0.903, 1.074]), significance_level=array([15. , 10. ,  5. ,  2.5,  1. ]), fit_result=  params: FitParams(loc=22.349729138292975, scale=7.425963723929097)\n",
       " success: True\n",
       " message: '`anderson` successfully fit the distribution to the data.')"
      ]
     },
     "execution_count": 40,
     "metadata": {},
     "output_type": "execute_result"
    }
   ],
   "source": [
    "stats.anderson(yj_e_car,dist = 'norm')"
   ]
  },
  {
   "cell_type": "code",
   "execution_count": 41,
   "id": "a4aba0c5",
   "metadata": {},
   "outputs": [
    {
     "data": {
      "text/plain": [
       "AndersonResult(statistic=0.3963877451544704, critical_values=array([0.566, 0.645, 0.774, 0.903, 1.074]), significance_level=array([15. , 10. ,  5. ,  2.5,  1. ]), fit_result=  params: FitParams(loc=45.25550660792952, scale=18.58574730079311)\n",
       " success: True\n",
       " message: '`anderson` successfully fit the distribution to the data.')"
      ]
     },
     "execution_count": 41,
     "metadata": {},
     "output_type": "execute_result"
    }
   ],
   "source": [
    "stats.anderson(yj_a_car,dist = 'norm')"
   ]
  },
  {
   "cell_type": "markdown",
   "id": "7ef74160",
   "metadata": {},
   "source": [
    "##### Prueba Anderson-Darling para variable Azúcares"
   ]
  },
  {
   "cell_type": "code",
   "execution_count": 42,
   "id": "cbbf5542",
   "metadata": {},
   "outputs": [
    {
     "data": {
      "text/plain": [
       "AndersonResult(statistic=9.937965929358484, critical_values=array([0.567, 0.646, 0.775, 0.904, 1.076]), significance_level=array([15. , 10. ,  5. ,  2.5,  1. ]), fit_result=  params: FitParams(loc=27.984375, scale=26.457804919843042)\n",
       " success: True\n",
       " message: '`anderson` successfully fit the distribution to the data.')"
      ]
     },
     "execution_count": 42,
     "metadata": {},
     "output_type": "execute_result"
    }
   ],
   "source": [
    "stats.anderson(df_sug,dist = 'norm')"
   ]
  },
  {
   "cell_type": "code",
   "execution_count": 43,
   "id": "90cf48f5",
   "metadata": {},
   "outputs": [
    {
     "data": {
      "text/plain": [
       "AndersonResult(statistic=4.124947131065255, critical_values=array([0.567, 0.646, 0.775, 0.904, 1.076]), significance_level=array([15. , 10. ,  5. ,  2.5,  1. ]), fit_result=  params: FitParams(loc=4.198159973887773, scale=2.095178686777222)\n",
       " success: True\n",
       " message: '`anderson` successfully fit the distribution to the data.')"
      ]
     },
     "execution_count": 43,
     "metadata": {},
     "output_type": "execute_result"
    }
   ],
   "source": [
    "stats.anderson(yj_e_sug,dist = 'norm')"
   ]
  },
  {
   "cell_type": "code",
   "execution_count": 44,
   "id": "e8b1a1ff",
   "metadata": {},
   "outputs": [
    {
     "data": {
      "text/plain": [
       "AndersonResult(statistic=5.979284883980199, critical_values=array([0.567, 0.646, 0.775, 0.904, 1.076]), significance_level=array([15. , 10. ,  5. ,  2.5,  1. ]), fit_result=  params: FitParams(loc=2.724745363948048, scale=1.3422503386272524)\n",
       " success: True\n",
       " message: '`anderson` successfully fit the distribution to the data.')"
      ]
     },
     "execution_count": 44,
     "metadata": {},
     "output_type": "execute_result"
    }
   ],
   "source": [
    "stats.anderson(yj_a_sug,dist = 'norm')"
   ]
  },
  {
   "cell_type": "code",
   "execution_count": 45,
   "id": "0d516e9c",
   "metadata": {},
   "outputs": [
    {
     "data": {
      "image/png": "[encoded data removed]",
      "text/plain": [
       "<Figure size 576x288 with 1 Axes>"
      ]
     },
     "metadata": {
      "needs_background": "light"
     },
     "output_type": "display_data"
    }
   ],
   "source": [
    "q1_car = np.percentile(df_car, 25)  \n",
    "q3_car = np.percentile(df_car, 75)  \n",
    "ri_car = q3_car - q1_car\n",
    "\n",
    "plt.figure(figsize=(8, 4))\n",
    "plt.boxplot(df_car, vert=False)\n",
    "plt.axvline(x=q3_car + 1.5 * ri_car, color=\"red\")\n",
    "plt.show()"
   ]
  },
  {
   "cell_type": "code",
   "execution_count": 46,
   "id": "37a6e160",
   "metadata": {},
   "outputs": [
    {
     "data": {
      "image/png": "[encoded data removed]",
      "text/plain": [
       "<Figure size 576x288 with 1 Axes>"
      ]
     },
     "metadata": {
      "needs_background": "light"
     },
     "output_type": "display_data"
    }
   ],
   "source": [
    "q1_sug = np.percentile(df_sug, 25)  \n",
    "q3_sug = np.percentile(df_sug, 75)  \n",
    "ri_sug = q3_sug - q1_sug\n",
    "\n",
    "plt.figure(figsize=(8, 4))\n",
    "plt.boxplot(df_sug, vert=False)\n",
    "plt.axvline(x=q3_sug + 1.5 * ri_sug, color=\"red\")\n",
    "plt.show()"
   ]
  },
  {
   "cell_type": "markdown",
   "id": "95fea668",
   "metadata": {},
   "source": [
    "##### Observando los resultados las pruebas Anderson-Darling podemos aceptar a la transformación de Yeo-Johnson de la variables como aceptables ya que no podemos negar normalidad en niguno de los niveles de significancia, sin embargo podemos decir lo mismo para la transformación aproximada. Esto sumado a los histogramas se observa una similitud con la distribución teorica. Cabe destacar que para esta variable fue necesario eliminar los 0 para una mejor adaptación ala distribución normal.\n",
    "##### Para la variable Azúcares no fue posible eliminar ceros ya que representaban una gran cantidad de datos en el histograma, e incluso eliminando los ceros la tendencia de los datos no parece ser normal, esto se confirma al analizar los resultados de la prueba de Anderson-Darling aplicados a la transformación Yeo-Johnson en donde podemos negar normalidad en todos los niveles de significancia incluso eliminando los valores atípicos. para esta distrubicion de datos sería posible proponer otra distribución como una chi cuadrada con 1 grado de libertad."
   ]
  },
  {
   "cell_type": "markdown",
   "id": "d5d6f97f",
   "metadata": {},
   "source": [
    "##### En la implementacion de las dos transformaciones es necesario tomar en cuenta algunos factores. Para la transformacion de Box-Cox es necesario que todos los datos sean positivos, es menos compleja que Yeo-Johnson pero más sensible a outliers. Yeo-Johnson por otra parte admite valores positivos y no es tan sensible a otliers, sin embargo es más compleja. \n",
    "##### Las dos transformaciones son muy similares de hecho cuando los datos de entrada sólo contienen valores positivos, la transformación de Yeo-Johnson se simplifica a la transformación de Box-Cox, lo que facilita la comparación. La decisión entre una y otra se basa en el tipo de datos con los que se trabaje. Para datos positivos, la transformación Box-Cox es directa y eficiente, mientras que la transformación Yeo-Johnson ofrece mayor flexibilidad y robustes para adaptarse a una gama más amplia de distribuciones de datos. Es posible aplicar ambas y evaluar cómo afectan a la normalidad de los datos y a los resultados del estudio."
   ]
  },
  {
   "cell_type": "markdown",
   "id": "b344c38d",
   "metadata": {},
   "source": [
    "##### Una transformación  busca cambiar la distribución de los datos de una variable, esto afecta el comportamiento de la variable así como sus variables afectando los estadísticos de esta varibale. Un escalamiento no cambia la distribución de probabilidad de la variable si no las magnitudes de la variable, los estadísticos de esta variable se verán afectados solo en un cambio de magnitud. La principal diferencia entre una transformación de datos y un escalamiento es el proposito que tienen. \n",
    "\n",
    "##### En un contexto de machine learning la transformación busca la modificación de la distribución de los datos mientras que poder comparar variables con diferentes escala, la transformacion debe ser utilizada para un analísis estadístico de la variable para crear variables nuevas y determinar si su comportamiento puede generalizar información sobre la muestra, un escalamiento se utiliza para compensar diferencias en magnitudes de las variables para facilitar el proceso de aprendizaje de un modelo"
   ]
  },
  {
   "cell_type": "code",
   "execution_count": null,
   "id": "3d95a6cf",
   "metadata": {},
   "outputs": [],
   "source": []
  }
 ],
 "metadata": {
  "kernelspec": {
   "display_name": "Python 3 (ipykernel)",
   "language": "python",
   "name": "python3"
  },
  "language_info": {
   "codemirror_mode": {
    "name": "ipython",
    "version": 3
   },
   "file_extension": ".py",
   "mimetype": "text/x-python",
   "name": "python",
   "nbconvert_exporter": "python",
   "pygments_lexer": "ipython3",
   "version": "3.10.4"
  }
 },
 "nbformat": 4,
 "nbformat_minor": 5
}
