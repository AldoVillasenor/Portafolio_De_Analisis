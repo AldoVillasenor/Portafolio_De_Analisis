{
 "cells": [
  {
   "cell_type": "markdown",
   "id": "f9f64c66-9a8f-40f9-b714-700c106367ba",
   "metadata": {},
   "source": [
    "##### Aldo Daniel Villaseñor Fierro\n",
    "##### A01637907"
   ]
  },
  {
   "cell_type": "code",
   "execution_count": 2,
   "id": "1906b79b-8f5a-49f6-8be1-f62677cebaef",
   "metadata": {},
   "outputs": [],
   "source": [
    "import pandas as pd\n",
    "import scipy.stats as stats\n",
    "import pylab\n",
    "import matplotlib.pyplot as plt\n",
    "import plotly.express as px\n",
    "import numpy as np"
   ]
  },
  {
   "cell_type": "code",
   "execution_count": 3,
   "id": "a3c9e7ed-2b4d-48a8-9512-fc94a98b2b16",
   "metadata": {},
   "outputs": [],
   "source": [
    "df=pd.read_csv('mc-donalds-menu-1.csv',encoding = 'unicode_escape', engine ='python')"
   ]
  },
  {
   "cell_type": "markdown",
   "id": "cbea2e3e-6869-408b-93a9-32520f38771c",
   "metadata": {},
   "source": [
    "# 2. Analiza 2 de las siguientes variables en cuanto a sus datos atípicos y normalidad:ugars)"
   ]
  },
  {
   "cell_type": "markdown",
   "id": "1f02a58b-f749-4a6c-9b58-2c1923c6c91b",
   "metadata": {},
   "source": [
    "####     Calorias\n",
    "####     Carbohidratos\n",
    "####     Proteinas\n",
    "####     Sodio\n",
    "####     Azucares (Sugars)"
   ]
  },
  {
   "cell_type": "code",
   "execution_count": 4,
   "id": "eec8e724-fb0c-41d2-8d6d-f6e5b0780f73",
   "metadata": {},
   "outputs": [
    {
     "name": "stdout",
     "output_type": "stream",
     "text": [
      "30.0\n",
      "60.0\n",
      "30.0\n"
     ]
    }
   ],
   "source": [
    "q1_car = np.percentile(df['Carbohydrates'], 25)  \n",
    "q3_car = np.percentile(df['Carbohydrates'], 75)  \n",
    "ri_car = q3_car - q1_car  \n",
    "print(q1_car)\n",
    "print(q3_car)\n",
    "print(ri_car)"
   ]
  },
  {
   "cell_type": "code",
   "execution_count": 5,
   "id": "25fc7358-0ff5-42f0-88dc-1e479bdcefd3",
   "metadata": {},
   "outputs": [
    {
     "name": "stdout",
     "output_type": "stream",
     "text": [
      "210.0\n",
      "500.0\n",
      "290.0\n"
     ]
    }
   ],
   "source": [
    "q1_cal = np.percentile(df['Calories'], 25)  \n",
    "q3_cal = np.percentile(df['Calories'], 75)  \n",
    "ri_cal = q3_cal - q1_cal  \n",
    "print(q1_cal)\n",
    "print(q3_cal)\n",
    "print(ri_cal)"
   ]
  },
  {
   "cell_type": "code",
   "execution_count": 6,
   "id": "bec458ed-12b1-4a0c-8f2f-3ee6510cfe19",
   "metadata": {},
   "outputs": [
    {
     "data": {
      "image/png": "[encoded data removed]",
      "text/plain": [
       "<Figure size 576x288 with 1 Axes>"
      ]
     },
     "metadata": {
      "needs_background": "light"
     },
     "output_type": "display_data"
    }
   ],
   "source": [
    "plt.figure(figsize=(8, 4))\n",
    "plt.boxplot(df['Carbohydrates'], vert=False)\n",
    "plt.axvline(x=q3_car + 1.5 * ri_car, color=\"red\")\n",
    "plt.show()"
   ]
  },
  {
   "cell_type": "code",
   "execution_count": 7,
   "id": "2a370a2a-db64-412e-976c-00897fd93ea1",
   "metadata": {},
   "outputs": [
    {
     "data": {
      "image/png": "[encoded data removed]",
      "text/plain": [
       "<Figure size 576x288 with 1 Axes>"
      ]
     },
     "metadata": {
      "needs_background": "light"
     },
     "output_type": "display_data"
    }
   ],
   "source": [
    "plt.figure(figsize=(8, 4))\n",
    "plt.boxplot(df['Calories'], vert=False)\n",
    "plt.axvline(x=q3_cal + 1.5 * ri_cal, color=\"red\")\n",
    "plt.show()"
   ]
  },
  {
   "cell_type": "markdown",
   "id": "1b0c7cc2-0f07-423e-a916-f4df6e72cb20",
   "metadata": {},
   "source": [
    "### Eliminar valores mayores de 3 rangos intercuartílicos arriba de q3"
   ]
  },
  {
   "cell_type": "code",
   "execution_count": 8,
   "id": "7ec7c336-d231-41c3-a527-d635bc2c3f91",
   "metadata": {},
   "outputs": [],
   "source": [
    "df_car = df[(df['Carbohydrates'] < (q3_car + 1.5 * ri_car))]\n",
    "df_cal = df[(df['Calories'] < (q3_cal + 1.5 * ri_cal))]"
   ]
  },
  {
   "cell_type": "markdown",
   "id": "ad0c5501-5463-4202-81c0-a9149f2b56bd",
   "metadata": {},
   "source": [
    " # 3. Realiza pruebas de normalidad univariada de las variables (selecciona entre los métodos vistos en clase)"
   ]
  },
  {
   "cell_type": "markdown",
   "id": "8dda0672-bff5-4655-bb16-e1e13812e761",
   "metadata": {},
   "source": [
    "### Prueba de normalidad Anderson - Darling"
   ]
  },
  {
   "cell_type": "code",
   "execution_count": 9,
   "id": "209377f0-c5ae-4a8b-927a-cefa76f5ca04",
   "metadata": {},
   "outputs": [
    {
     "data": {
      "text/plain": [
       "AndersonResult(statistic=0.7491741378365475, critical_values=array([0.567, 0.646, 0.775, 0.904, 1.075]), significance_level=array([15. , 10. ,  5. ,  2.5,  1. ]), fit_result=  params: FitParams(loc=42.275720164609055, scale=21.19162148767151)\n",
       " success: True\n",
       " message: '`anderson` successfully fit the distribution to the data.')"
      ]
     },
     "execution_count": 9,
     "metadata": {},
     "output_type": "execute_result"
    }
   ],
   "source": [
    "stats.anderson(df_car['Carbohydrates'],dist = 'norm')"
   ]
  },
  {
   "cell_type": "code",
   "execution_count": 10,
   "id": "6e09ae60-f968-4c97-ba09-6dc6cd529fc6",
   "metadata": {},
   "outputs": [
    {
     "data": {
      "text/plain": [
       "AndersonResult(statistic=0.8978551010141871, critical_values=array([0.567, 0.646, 0.775, 0.904, 1.075]), significance_level=array([15. , 10. ,  5. ,  2.5,  1. ]), fit_result=  params: FitParams(loc=349.01574803149606, scale=201.40125658540788)\n",
       " success: True\n",
       " message: '`anderson` successfully fit the distribution to the data.')"
      ]
     },
     "execution_count": 10,
     "metadata": {},
     "output_type": "execute_result"
    }
   ],
   "source": [
    "stats.anderson(df_cal['Calories'],dist = 'norm')"
   ]
  },
  {
   "cell_type": "markdown",
   "id": "46b568f3-18ff-49d9-acbd-19ba79f5e3e7",
   "metadata": {},
   "source": [
    "#### Para la variable carbohidratos podemos negar normalidad con un nivel significancia de $\\alpha = 0.01$, $\\alpha = 0.025$ y $\\alpha = 0.05$. Mientras que para la variable calorias podemos negar normalidad con un nivel significancia de $\\alpha = 0.01$ y $\\alpha = 0.025$"
   ]
  },
  {
   "cell_type": "code",
   "execution_count": 11,
   "id": "b4611a55-1c8c-4209-a7e1-cdd957b48d00",
   "metadata": {},
   "outputs": [
    {
     "data": {
      "text/plain": [
       "SignificanceResult(statistic=0.08087590942674809, pvalue=0.9603687490172244)"
      ]
     },
     "execution_count": 11,
     "metadata": {},
     "output_type": "execute_result"
    }
   ],
   "source": [
    "stats.jarque_bera(df_car['Carbohydrates'])"
   ]
  },
  {
   "cell_type": "code",
   "execution_count": 12,
   "id": "56260b2d-20be-4980-8fda-64907441ed95",
   "metadata": {},
   "outputs": [
    {
     "data": {
      "text/plain": [
       "SignificanceResult(statistic=6.006505247684137, pvalue=0.04962539283964081)"
      ]
     },
     "execution_count": 12,
     "metadata": {},
     "output_type": "execute_result"
    }
   ],
   "source": [
    "stats.jarque_bera(df_cal['Calories'])"
   ]
  },
  {
   "cell_type": "markdown",
   "id": "b39c8284-39c6-4fb9-85b4-b3d3bdd4524f",
   "metadata": {},
   "source": [
    "## 4. Grafica los datos y su respectivo QQPlot para cada variable"
   ]
  },
  {
   "cell_type": "code",
   "execution_count": 13,
   "id": "b3b9369d-dc27-4bb2-9574-7c2f430e9ac1",
   "metadata": {},
   "outputs": [
    {
     "data": {
      "image/png": "[encoded data removed]",
      "text/plain": [
       "<Figure size 432x288 with 1 Axes>"
      ]
     },
     "metadata": {
      "needs_background": "light"
     },
     "output_type": "display_data"
    }
   ],
   "source": [
    "stats.probplot(df_car['Carbohydrates'], plot=pylab)\n",
    "pylab.show()"
   ]
  },
  {
   "cell_type": "code",
   "execution_count": 14,
   "id": "ef656682-3287-4fb7-b9dc-5dfbb0a5b6d4",
   "metadata": {},
   "outputs": [
    {
     "data": {
      "image/png": "[encoded data removed]",
      "text/plain": [
       "<Figure size 432x288 with 1 Axes>"
      ]
     },
     "metadata": {
      "needs_background": "light"
     },
     "output_type": "display_data"
    }
   ],
   "source": [
    "stats.probplot(df_cal['Calories'], plot=pylab)\n",
    "pylab.show()"
   ]
  },
  {
   "cell_type": "markdown",
   "id": "3b03661f-f677-4ad5-89f1-e12173562a8d",
   "metadata": {},
   "source": [
    "## 4. Calcula el coeficiente de sesgo y el coeficiente de curtosis de cada variable"
   ]
  },
  {
   "cell_type": "markdown",
   "id": "7a572504-398e-46b0-96c0-6085f693105a",
   "metadata": {},
   "source": [
    "### Sesgo, Curtosis, Media y Mediana de las variables"
   ]
  },
  {
   "cell_type": "code",
   "execution_count": 15,
   "id": "84e0a473-21cb-4d87-be45-698ea8b5a140",
   "metadata": {},
   "outputs": [
    {
     "name": "stdout",
     "output_type": "stream",
     "text": [
      "Sesgo\n",
      "0.9074252822561677\n",
      "Curtosis\n",
      "1.3575379316182001\n",
      "Media\n",
      "47.34615384615385\n",
      "Mediana\n",
      "44.0\n"
     ]
    }
   ],
   "source": [
    "sesgo_c = stats.skew(df['Carbohydrates'])\n",
    "curtosis_c = stats.kurtosis(df['Carbohydrates'])\n",
    "print('Sesgo')\n",
    "print(sesgo_c)\n",
    "print('Curtosis')\n",
    "print(curtosis_c)\n",
    "print('Media')\n",
    "print(df.Carbohydrates.mean())\n",
    "print('Mediana')\n",
    "print(df.Carbohydrates.median())"
   ]
  },
  {
   "cell_type": "code",
   "execution_count": 16,
   "id": "a499575b-00e3-4c2b-8518-c5d5a5bffdc0",
   "metadata": {},
   "outputs": [
    {
     "name": "stdout",
     "output_type": "stream",
     "text": [
      "Sesgo\n",
      "1.4441049105101538\n",
      "Curtosis\n",
      "5.645273870478668\n",
      "Media\n",
      "368.2692307692308\n",
      "Mediana\n",
      "340.0\n"
     ]
    }
   ],
   "source": [
    "sesgo_c = stats.skew(df['Calories'])\n",
    "curtosis_c = stats.kurtosis(df['Calories'])\n",
    "print('Sesgo')\n",
    "print(sesgo_c)\n",
    "print('Curtosis')\n",
    "print(curtosis_c)\n",
    "print('Media')\n",
    "print(df.Calories.mean())\n",
    "print('Mediana')\n",
    "print(df.Calories.median())"
   ]
  },
  {
   "cell_type": "markdown",
   "id": "8af8c19f-ded9-4c2a-bf6f-0e18b411b379",
   "metadata": {},
   "source": [
    "## 5. Realiza el histograma y su distribución teórica de probabilidad "
   ]
  },
  {
   "cell_type": "code",
   "execution_count": 17,
   "id": "f34877e7-01d0-4ad3-915c-398963605342",
   "metadata": {},
   "outputs": [
    {
     "data": {
      "image/png": "[encoded data removed]",
      "text/plain": [
       "<Figure size 432x288 with 1 Axes>"
      ]
     },
     "metadata": {
      "needs_background": "light"
     },
     "output_type": "display_data"
    }
   ],
   "source": [
    "x = np.arange(min(df_car.Carbohydrates), max(df_car.Carbohydrates), 0.1)\n",
    "serie=df_car.Carbohydrates\n",
    "y = stats.norm.pdf(x, np.mean(serie), np.std(serie))\n",
    "plt.figure(figsize=(6, 4))\n",
    "plt.hist(serie, bins=30, density=True, histtype='bar', alpha=0.7, color='blue')\n",
    "plt.plot(x, y, color='blue', label='Normal Distribution')\n",
    "plt.xlabel('Value')\n",
    "plt.ylabel('Probability Density')\n",
    "plt.title('Carbohidratos')\n",
    "plt.show()"
   ]
  },
  {
   "cell_type": "code",
   "execution_count": 19,
   "id": "05735e44-a183-4ebb-8e20-bc02d7d12bd6",
   "metadata": {},
   "outputs": [
    {
     "data": {
      "image/png": "[encoded data removed]",
      "text/plain": [
       "<Figure size 432x288 with 1 Axes>"
      ]
     },
     "metadata": {
      "needs_background": "light"
     },
     "output_type": "display_data"
    }
   ],
   "source": [
    "x = np.arange(min(df_cal.Calories), max(df_cal.Calories), 0.1)\n",
    "serie=df_cal.Calories\n",
    "y = stats.norm.pdf(x, np.mean(serie), np.std(serie))\n",
    "plt.figure(figsize=(6, 4))\n",
    "plt.hist(serie, bins=30, density=True, histtype='bar', alpha=0.7, color='blue')\n",
    "plt.plot(x, y, color='blue', label='Normal Distribution')\n",
    "plt.xlabel('Value')\n",
    "plt.ylabel('Probability Density')\n",
    "plt.title('Calorias')\n",
    "plt.show()"
   ]
  },
  {
   "cell_type": "markdown",
   "id": "0103082c-7574-4597-ab39-c5b0d782cf63",
   "metadata": {},
   "source": [
    "#### Analizando los gráficos QQPlot observamos un comportamiento normal en la parte central, en las colas notamos asímetría positiva lo cual se confirma al comparar la distribución normal teórica con el histograma de las variables.\n",
    "#### Individualmente parece que la variable con mayor similitud a la normal es la variable carabohidratos, esto al observar los resultados de la Jarque - Bera, así como la media teoríca y la de la muestra las cuales parecen estar no muy alejadas."
   ]
  },
  {
   "cell_type": "code",
   "execution_count": null,
   "id": "f9c13db2-dec4-466c-941c-5ed8f5fe940c",
   "metadata": {},
   "outputs": [],
   "source": []
  }
 ],
 "metadata": {
  "kernelspec": {
   "display_name": "Python 3 (ipykernel)",
   "language": "python",
   "name": "python3"
  },
  "language_info": {
   "codemirror_mode": {
    "name": "ipython",
    "version": 3
   },
   "file_extension": ".py",
   "mimetype": "text/x-python",
   "name": "python",
   "nbconvert_exporter": "python",
   "pygments_lexer": "ipython3",
   "version": "3.10.4"
  }
 },
 "nbformat": 4,
 "nbformat_minor": 5
}
